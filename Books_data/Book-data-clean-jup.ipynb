{
 "cells": [
  {
   "cell_type": "code",
   "execution_count": 1,
   "id": "8e8d3fe5",
   "metadata": {},
   "outputs": [],
   "source": [
    "import pandas as pd\n",
    "import numpy as np"
   ]
  },
  {
   "cell_type": "code",
   "execution_count": 2,
   "id": "d6d0dc3b",
   "metadata": {},
   "outputs": [],
   "source": [
    "books = pd.read_csv('book_sample.csv')"
   ]
  },
  {
   "cell_type": "code",
   "execution_count": 3,
   "id": "3c880fdb",
   "metadata": {},
   "outputs": [
    {
     "data": {
      "text/html": [
       "<div>\n",
       "<style scoped>\n",
       "    .dataframe tbody tr th:only-of-type {\n",
       "        vertical-align: middle;\n",
       "    }\n",
       "\n",
       "    .dataframe tbody tr th {\n",
       "        vertical-align: top;\n",
       "    }\n",
       "\n",
       "    .dataframe thead th {\n",
       "        text-align: right;\n",
       "    }\n",
       "</style>\n",
       "<table border=\"1\" class=\"dataframe\">\n",
       "  <thead>\n",
       "    <tr style=\"text-align: right;\">\n",
       "      <th></th>\n",
       "      <th>Rating</th>\n",
       "      <th>Publication Cost</th>\n",
       "      <th>ISBN</th>\n",
       "      <th>Book Title</th>\n",
       "      <th>Year</th>\n",
       "      <th>Genres</th>\n",
       "      <th>Link</th>\n",
       "      <th>Total Revenue</th>\n",
       "      <th>Book URL</th>\n",
       "    </tr>\n",
       "  </thead>\n",
       "  <tbody>\n",
       "    <tr>\n",
       "      <th>0</th>\n",
       "      <td>4.40</td>\n",
       "      <td>136455.0</td>\n",
       "      <td>0439023483</td>\n",
       "      <td>The Hunger Games (The Hunger Games, #1)</td>\n",
       "      <td>2008</td>\n",
       "      <td>young-adult, science-fiction, dystopia, fantas...</td>\n",
       "      <td>dir01/2767052-the-hunger-games.html</td>\n",
       "      <td>2958974.0</td>\n",
       "      <td>https://www.goodreads.com/author/show/153394.S...</td>\n",
       "    </tr>\n",
       "    <tr>\n",
       "      <th>1</th>\n",
       "      <td>4.41</td>\n",
       "      <td>16648.0</td>\n",
       "      <td>0439358078</td>\n",
       "      <td>Harry Potter and the Order of the Phoenix (Har...</td>\n",
       "      <td>2003</td>\n",
       "      <td>fantasy, young-adult, fiction, fantasy, magic,...</td>\n",
       "      <td>dir01/2.Harry_Potter_and_the_Order_of_the_Phoe...</td>\n",
       "      <td>1284478.0</td>\n",
       "      <td>https://www.goodreads.com/author/show/1077326....</td>\n",
       "    </tr>\n",
       "    <tr>\n",
       "      <th>2</th>\n",
       "      <td>3.56</td>\n",
       "      <td>85746.0</td>\n",
       "      <td>0316015849</td>\n",
       "      <td>Twilight (Twilight, #1)</td>\n",
       "      <td>2005</td>\n",
       "      <td>young-adult, fantasy, romance, paranormal, vam...</td>\n",
       "      <td>dir01/41865.Twilight.html</td>\n",
       "      <td>2579564.0</td>\n",
       "      <td>https://www.goodreads.com/author/show/941441.S...</td>\n",
       "    </tr>\n",
       "    <tr>\n",
       "      <th>3</th>\n",
       "      <td>4.23</td>\n",
       "      <td>47906.0</td>\n",
       "      <td>0061120081</td>\n",
       "      <td>To Kill a Mockingbird</td>\n",
       "      <td>1960</td>\n",
       "      <td>classics, fiction, historical-fiction, academi...</td>\n",
       "      <td>dir01/2657.To_Kill_a_Mockingbird.html</td>\n",
       "      <td>2078123.0</td>\n",
       "      <td>https://www.goodreads.com/author/show/1825.Har...</td>\n",
       "    </tr>\n",
       "    <tr>\n",
       "      <th>4</th>\n",
       "      <td>4.23</td>\n",
       "      <td>34772.0</td>\n",
       "      <td>0679783261</td>\n",
       "      <td>Pride and Prejudice</td>\n",
       "      <td>1813</td>\n",
       "      <td>classics, fiction, romance, historical-fiction...</td>\n",
       "      <td>dir01/1885.Pride_and_Prejudice.html</td>\n",
       "      <td>1388992.0</td>\n",
       "      <td>https://www.goodreads.com/author/show/1265.Jan...</td>\n",
       "    </tr>\n",
       "    <tr>\n",
       "      <th>...</th>\n",
       "      <td>...</td>\n",
       "      <td>...</td>\n",
       "      <td>...</td>\n",
       "      <td>...</td>\n",
       "      <td>...</td>\n",
       "      <td>...</td>\n",
       "      <td>...</td>\n",
       "      <td>...</td>\n",
       "      <td>...</td>\n",
       "    </tr>\n",
       "    <tr>\n",
       "      <th>5992</th>\n",
       "      <td>4.37</td>\n",
       "      <td>28.0</td>\n",
       "      <td>0393062260</td>\n",
       "      <td>The Book of Psalms</td>\n",
       "      <td>2007</td>\n",
       "      <td>poetry, religion, christian, religion, theolog...</td>\n",
       "      <td>dir60/1251125.The_Book_of_Psalms.html</td>\n",
       "      <td>242.0</td>\n",
       "      <td>https://www.goodreads.com/author/show/62157.Ro...</td>\n",
       "    </tr>\n",
       "    <tr>\n",
       "      <th>5993</th>\n",
       "      <td>4.17</td>\n",
       "      <td>2226.0</td>\n",
       "      <td>0767913736</td>\n",
       "      <td>The River of Doubt</td>\n",
       "      <td>2005</td>\n",
       "      <td>history, non-fiction, biography, adventure, bo...</td>\n",
       "      <td>dir60/78508.The_River_of_Doubt.html</td>\n",
       "      <td>16618.0</td>\n",
       "      <td>https://www.goodreads.com/author/show/44565.Ca...</td>\n",
       "    </tr>\n",
       "    <tr>\n",
       "      <th>5994</th>\n",
       "      <td>3.99</td>\n",
       "      <td>775.0</td>\n",
       "      <td>1416909427</td>\n",
       "      <td>Shug</td>\n",
       "      <td>2006</td>\n",
       "      <td>young-adult, realistic-fiction, romance, conte...</td>\n",
       "      <td>dir60/259068.Shug.html</td>\n",
       "      <td>6179.0</td>\n",
       "      <td>https://www.goodreads.com/author/show/151371.J...</td>\n",
       "    </tr>\n",
       "    <tr>\n",
       "      <th>5995</th>\n",
       "      <td>3.78</td>\n",
       "      <td>540.0</td>\n",
       "      <td>1620612321</td>\n",
       "      <td>Flawed</td>\n",
       "      <td>2012</td>\n",
       "      <td>contemporary, romance, young-adult, sociology,...</td>\n",
       "      <td>dir60/13503247-flawed.html</td>\n",
       "      <td>2971.0</td>\n",
       "      <td>https://www.goodreads.com/author/show/5761314....</td>\n",
       "    </tr>\n",
       "    <tr>\n",
       "      <th>5996</th>\n",
       "      <td>4.35</td>\n",
       "      <td>61.0</td>\n",
       "      <td>0786929081</td>\n",
       "      <td>Legacy of the Drow Collector's Edition (Legacy...</td>\n",
       "      <td>2001</td>\n",
       "      <td>fiction, fantasy, magic, science-fiction-fanta...</td>\n",
       "      <td>dir60/66677.Legacy_of_the_Drow_Collector_s_Edi...</td>\n",
       "      <td>3982.0</td>\n",
       "      <td>https://www.goodreads.com/author/show/1023510....</td>\n",
       "    </tr>\n",
       "  </tbody>\n",
       "</table>\n",
       "<p>5997 rows × 9 columns</p>\n",
       "</div>"
      ],
      "text/plain": [
       "      Rating  Publication Cost        ISBN  \\\n",
       "0       4.40          136455.0  0439023483   \n",
       "1       4.41           16648.0  0439358078   \n",
       "2       3.56           85746.0  0316015849   \n",
       "3       4.23           47906.0  0061120081   \n",
       "4       4.23           34772.0  0679783261   \n",
       "...      ...               ...         ...   \n",
       "5992    4.37              28.0  0393062260   \n",
       "5993    4.17            2226.0  0767913736   \n",
       "5994    3.99             775.0  1416909427   \n",
       "5995    3.78             540.0  1620612321   \n",
       "5996    4.35              61.0  0786929081   \n",
       "\n",
       "                                             Book Title  Year  \\\n",
       "0               The Hunger Games (The Hunger Games, #1)  2008   \n",
       "1     Harry Potter and the Order of the Phoenix (Har...  2003   \n",
       "2                               Twilight (Twilight, #1)  2005   \n",
       "3                                 To Kill a Mockingbird  1960   \n",
       "4                                   Pride and Prejudice  1813   \n",
       "...                                                 ...   ...   \n",
       "5992                                 The Book of Psalms  2007   \n",
       "5993                                 The River of Doubt  2005   \n",
       "5994                                               Shug  2006   \n",
       "5995                                             Flawed  2012   \n",
       "5996  Legacy of the Drow Collector's Edition (Legacy...  2001   \n",
       "\n",
       "                                                 Genres  \\\n",
       "0     young-adult, science-fiction, dystopia, fantas...   \n",
       "1     fantasy, young-adult, fiction, fantasy, magic,...   \n",
       "2     young-adult, fantasy, romance, paranormal, vam...   \n",
       "3     classics, fiction, historical-fiction, academi...   \n",
       "4     classics, fiction, romance, historical-fiction...   \n",
       "...                                                 ...   \n",
       "5992  poetry, religion, christian, religion, theolog...   \n",
       "5993  history, non-fiction, biography, adventure, bo...   \n",
       "5994  young-adult, realistic-fiction, romance, conte...   \n",
       "5995  contemporary, romance, young-adult, sociology,...   \n",
       "5996  fiction, fantasy, magic, science-fiction-fanta...   \n",
       "\n",
       "                                                   Link  Total Revenue  \\\n",
       "0                   dir01/2767052-the-hunger-games.html      2958974.0   \n",
       "1     dir01/2.Harry_Potter_and_the_Order_of_the_Phoe...      1284478.0   \n",
       "2                             dir01/41865.Twilight.html      2579564.0   \n",
       "3                 dir01/2657.To_Kill_a_Mockingbird.html      2078123.0   \n",
       "4                   dir01/1885.Pride_and_Prejudice.html      1388992.0   \n",
       "...                                                 ...            ...   \n",
       "5992              dir60/1251125.The_Book_of_Psalms.html          242.0   \n",
       "5993                dir60/78508.The_River_of_Doubt.html        16618.0   \n",
       "5994                             dir60/259068.Shug.html         6179.0   \n",
       "5995                         dir60/13503247-flawed.html         2971.0   \n",
       "5996  dir60/66677.Legacy_of_the_Drow_Collector_s_Edi...         3982.0   \n",
       "\n",
       "                                               Book URL  \n",
       "0     https://www.goodreads.com/author/show/153394.S...  \n",
       "1     https://www.goodreads.com/author/show/1077326....  \n",
       "2     https://www.goodreads.com/author/show/941441.S...  \n",
       "3     https://www.goodreads.com/author/show/1825.Har...  \n",
       "4     https://www.goodreads.com/author/show/1265.Jan...  \n",
       "...                                                 ...  \n",
       "5992  https://www.goodreads.com/author/show/62157.Ro...  \n",
       "5993  https://www.goodreads.com/author/show/44565.Ca...  \n",
       "5994  https://www.goodreads.com/author/show/151371.J...  \n",
       "5995  https://www.goodreads.com/author/show/5761314....  \n",
       "5996  https://www.goodreads.com/author/show/1023510....  \n",
       "\n",
       "[5997 rows x 9 columns]"
      ]
     },
     "execution_count": 3,
     "metadata": {},
     "output_type": "execute_result"
    }
   ],
   "source": [
    "books"
   ]
  },
  {
   "cell_type": "code",
   "execution_count": 6,
   "id": "9d5358a6",
   "metadata": {
    "scrolled": true
   },
   "outputs": [
    {
     "name": "stdout",
     "output_type": "stream",
     "text": [
      "<class 'pandas.core.frame.DataFrame'>\n",
      "RangeIndex: 5997 entries, 0 to 5996\n",
      "Data columns (total 9 columns):\n",
      " #   Column            Non-Null Count  Dtype  \n",
      "---  ------            --------------  -----  \n",
      " 0   Rating            5997 non-null   float64\n",
      " 1   Publication Cost  5997 non-null   float64\n",
      " 2   ISBN              5997 non-null   object \n",
      " 3   Book Title        5997 non-null   object \n",
      " 4   Year              5997 non-null   int64  \n",
      " 5   Genres            5997 non-null   object \n",
      " 6   Link              5997 non-null   object \n",
      " 7   Total Revenue     5997 non-null   float64\n",
      " 8   Book URL          5997 non-null   object \n",
      "dtypes: float64(3), int64(1), object(5)\n",
      "memory usage: 421.8+ KB\n"
     ]
    }
   ],
   "source": [
    "books.info()"
   ]
  },
  {
   "cell_type": "code",
   "execution_count": 15,
   "id": "3617fc21",
   "metadata": {},
   "outputs": [],
   "source": [
    "#books.drop(columns = (['Publication Cost'], ['Link'],['Total Revenue'],['Book URL']), inplace = True)\n",
    "books.drop(columns = ['Total Revenue'], inplace = True)"
   ]
  },
  {
   "cell_type": "code",
   "execution_count": 17,
   "id": "0f18509c",
   "metadata": {},
   "outputs": [],
   "source": [
    "books.drop(columns = ['Link'], inplace = True)"
   ]
  },
  {
   "cell_type": "code",
   "execution_count": 19,
   "id": "e71685fc",
   "metadata": {},
   "outputs": [],
   "source": [
    "books.drop(columns = ['Book URL'], inplace = True)"
   ]
  },
  {
   "cell_type": "code",
   "execution_count": 20,
   "id": "02c5b568",
   "metadata": {},
   "outputs": [
    {
     "data": {
      "text/html": [
       "<div>\n",
       "<style scoped>\n",
       "    .dataframe tbody tr th:only-of-type {\n",
       "        vertical-align: middle;\n",
       "    }\n",
       "\n",
       "    .dataframe tbody tr th {\n",
       "        vertical-align: top;\n",
       "    }\n",
       "\n",
       "    .dataframe thead th {\n",
       "        text-align: right;\n",
       "    }\n",
       "</style>\n",
       "<table border=\"1\" class=\"dataframe\">\n",
       "  <thead>\n",
       "    <tr style=\"text-align: right;\">\n",
       "      <th></th>\n",
       "      <th>ISBN</th>\n",
       "      <th>Book Title</th>\n",
       "      <th>Year</th>\n",
       "      <th>Genres</th>\n",
       "    </tr>\n",
       "  </thead>\n",
       "  <tbody>\n",
       "    <tr>\n",
       "      <th>0</th>\n",
       "      <td>0439023483</td>\n",
       "      <td>The Hunger Games (The Hunger Games, #1)</td>\n",
       "      <td>2008</td>\n",
       "      <td>young-adult, science-fiction, dystopia, fantas...</td>\n",
       "    </tr>\n",
       "    <tr>\n",
       "      <th>1</th>\n",
       "      <td>0439358078</td>\n",
       "      <td>Harry Potter and the Order of the Phoenix (Har...</td>\n",
       "      <td>2003</td>\n",
       "      <td>fantasy, young-adult, fiction, fantasy, magic,...</td>\n",
       "    </tr>\n",
       "    <tr>\n",
       "      <th>2</th>\n",
       "      <td>0316015849</td>\n",
       "      <td>Twilight (Twilight, #1)</td>\n",
       "      <td>2005</td>\n",
       "      <td>young-adult, fantasy, romance, paranormal, vam...</td>\n",
       "    </tr>\n",
       "    <tr>\n",
       "      <th>3</th>\n",
       "      <td>0061120081</td>\n",
       "      <td>To Kill a Mockingbird</td>\n",
       "      <td>1960</td>\n",
       "      <td>classics, fiction, historical-fiction, academi...</td>\n",
       "    </tr>\n",
       "    <tr>\n",
       "      <th>4</th>\n",
       "      <td>0679783261</td>\n",
       "      <td>Pride and Prejudice</td>\n",
       "      <td>1813</td>\n",
       "      <td>classics, fiction, romance, historical-fiction...</td>\n",
       "    </tr>\n",
       "    <tr>\n",
       "      <th>...</th>\n",
       "      <td>...</td>\n",
       "      <td>...</td>\n",
       "      <td>...</td>\n",
       "      <td>...</td>\n",
       "    </tr>\n",
       "    <tr>\n",
       "      <th>5992</th>\n",
       "      <td>0393062260</td>\n",
       "      <td>The Book of Psalms</td>\n",
       "      <td>2007</td>\n",
       "      <td>poetry, religion, christian, religion, theolog...</td>\n",
       "    </tr>\n",
       "    <tr>\n",
       "      <th>5993</th>\n",
       "      <td>0767913736</td>\n",
       "      <td>The River of Doubt</td>\n",
       "      <td>2005</td>\n",
       "      <td>history, non-fiction, biography, adventure, bo...</td>\n",
       "    </tr>\n",
       "    <tr>\n",
       "      <th>5994</th>\n",
       "      <td>1416909427</td>\n",
       "      <td>Shug</td>\n",
       "      <td>2006</td>\n",
       "      <td>young-adult, realistic-fiction, romance, conte...</td>\n",
       "    </tr>\n",
       "    <tr>\n",
       "      <th>5995</th>\n",
       "      <td>1620612321</td>\n",
       "      <td>Flawed</td>\n",
       "      <td>2012</td>\n",
       "      <td>contemporary, romance, young-adult, sociology,...</td>\n",
       "    </tr>\n",
       "    <tr>\n",
       "      <th>5996</th>\n",
       "      <td>0786929081</td>\n",
       "      <td>Legacy of the Drow Collector's Edition (Legacy...</td>\n",
       "      <td>2001</td>\n",
       "      <td>fiction, fantasy, magic, science-fiction-fanta...</td>\n",
       "    </tr>\n",
       "  </tbody>\n",
       "</table>\n",
       "<p>5997 rows × 4 columns</p>\n",
       "</div>"
      ],
      "text/plain": [
       "            ISBN                                         Book Title  Year  \\\n",
       "0     0439023483            The Hunger Games (The Hunger Games, #1)  2008   \n",
       "1     0439358078  Harry Potter and the Order of the Phoenix (Har...  2003   \n",
       "2     0316015849                            Twilight (Twilight, #1)  2005   \n",
       "3     0061120081                              To Kill a Mockingbird  1960   \n",
       "4     0679783261                                Pride and Prejudice  1813   \n",
       "...          ...                                                ...   ...   \n",
       "5992  0393062260                                 The Book of Psalms  2007   \n",
       "5993  0767913736                                 The River of Doubt  2005   \n",
       "5994  1416909427                                               Shug  2006   \n",
       "5995  1620612321                                             Flawed  2012   \n",
       "5996  0786929081  Legacy of the Drow Collector's Edition (Legacy...  2001   \n",
       "\n",
       "                                                 Genres  \n",
       "0     young-adult, science-fiction, dystopia, fantas...  \n",
       "1     fantasy, young-adult, fiction, fantasy, magic,...  \n",
       "2     young-adult, fantasy, romance, paranormal, vam...  \n",
       "3     classics, fiction, historical-fiction, academi...  \n",
       "4     classics, fiction, romance, historical-fiction...  \n",
       "...                                                 ...  \n",
       "5992  poetry, religion, christian, religion, theolog...  \n",
       "5993  history, non-fiction, biography, adventure, bo...  \n",
       "5994  young-adult, realistic-fiction, romance, conte...  \n",
       "5995  contemporary, romance, young-adult, sociology,...  \n",
       "5996  fiction, fantasy, magic, science-fiction-fanta...  \n",
       "\n",
       "[5997 rows x 4 columns]"
      ]
     },
     "execution_count": 20,
     "metadata": {},
     "output_type": "execute_result"
    }
   ],
   "source": [
    "books"
   ]
  },
  {
   "cell_type": "code",
   "execution_count": 22,
   "id": "e7ea9d34",
   "metadata": {},
   "outputs": [],
   "source": [
    "books['Genres'] = books['Genres'].str.replace(\",\", \" \")"
   ]
  },
  {
   "cell_type": "code",
   "execution_count": 125,
   "id": "a142067d",
   "metadata": {},
   "outputs": [
    {
     "data": {
      "text/plain": [
       "'young-adult science-fiction dystopia fantasy science-fiction romance adventure book-club young-adult teen apocalyptic post-apocalyptic action'"
      ]
     },
     "execution_count": 125,
     "metadata": {},
     "output_type": "execute_result"
    }
   ],
   "source": [
    "books['Genres'][0]"
   ]
  },
  {
   "cell_type": "code",
   "execution_count": 25,
   "id": "ed26a391",
   "metadata": {},
   "outputs": [
    {
     "data": {
      "text/html": [
       "<div>\n",
       "<style scoped>\n",
       "    .dataframe tbody tr th:only-of-type {\n",
       "        vertical-align: middle;\n",
       "    }\n",
       "\n",
       "    .dataframe tbody tr th {\n",
       "        vertical-align: top;\n",
       "    }\n",
       "\n",
       "    .dataframe thead th {\n",
       "        text-align: right;\n",
       "    }\n",
       "</style>\n",
       "<table border=\"1\" class=\"dataframe\">\n",
       "  <thead>\n",
       "    <tr style=\"text-align: right;\">\n",
       "      <th></th>\n",
       "      <th>ISBN</th>\n",
       "      <th>Book Title</th>\n",
       "      <th>Year</th>\n",
       "      <th>Genres</th>\n",
       "    </tr>\n",
       "  </thead>\n",
       "  <tbody>\n",
       "    <tr>\n",
       "      <th>0</th>\n",
       "      <td>0439023483</td>\n",
       "      <td>The Hunger Games (The Hunger Games, #1)</td>\n",
       "      <td>2008</td>\n",
       "      <td>[young-adult, science-fiction, dystopia, fanta...</td>\n",
       "    </tr>\n",
       "    <tr>\n",
       "      <th>1</th>\n",
       "      <td>0439358078</td>\n",
       "      <td>Harry Potter and the Order of the Phoenix (Har...</td>\n",
       "      <td>2003</td>\n",
       "      <td>[fantasy, young-adult, fiction, fantasy, magic...</td>\n",
       "    </tr>\n",
       "    <tr>\n",
       "      <th>2</th>\n",
       "      <td>0316015849</td>\n",
       "      <td>Twilight (Twilight, #1)</td>\n",
       "      <td>2005</td>\n",
       "      <td>[young-adult, fantasy, romance, paranormal, va...</td>\n",
       "    </tr>\n",
       "    <tr>\n",
       "      <th>3</th>\n",
       "      <td>0061120081</td>\n",
       "      <td>To Kill a Mockingbird</td>\n",
       "      <td>1960</td>\n",
       "      <td>[classics, fiction, historical-fiction, academ...</td>\n",
       "    </tr>\n",
       "    <tr>\n",
       "      <th>4</th>\n",
       "      <td>0679783261</td>\n",
       "      <td>Pride and Prejudice</td>\n",
       "      <td>1813</td>\n",
       "      <td>[classics, fiction, romance, historical-fictio...</td>\n",
       "    </tr>\n",
       "    <tr>\n",
       "      <th>...</th>\n",
       "      <td>...</td>\n",
       "      <td>...</td>\n",
       "      <td>...</td>\n",
       "      <td>...</td>\n",
       "    </tr>\n",
       "    <tr>\n",
       "      <th>5992</th>\n",
       "      <td>0393062260</td>\n",
       "      <td>The Book of Psalms</td>\n",
       "      <td>2007</td>\n",
       "      <td>[poetry, religion, christian, religion, theolo...</td>\n",
       "    </tr>\n",
       "    <tr>\n",
       "      <th>5993</th>\n",
       "      <td>0767913736</td>\n",
       "      <td>The River of Doubt</td>\n",
       "      <td>2005</td>\n",
       "      <td>[history, non-fiction, biography, adventure, b...</td>\n",
       "    </tr>\n",
       "    <tr>\n",
       "      <th>5994</th>\n",
       "      <td>1416909427</td>\n",
       "      <td>Shug</td>\n",
       "      <td>2006</td>\n",
       "      <td>[young-adult, realistic-fiction, romance, cont...</td>\n",
       "    </tr>\n",
       "    <tr>\n",
       "      <th>5995</th>\n",
       "      <td>1620612321</td>\n",
       "      <td>Flawed</td>\n",
       "      <td>2012</td>\n",
       "      <td>[contemporary, romance, young-adult, sociology...</td>\n",
       "    </tr>\n",
       "    <tr>\n",
       "      <th>5996</th>\n",
       "      <td>0786929081</td>\n",
       "      <td>Legacy of the Drow Collector's Edition (Legacy...</td>\n",
       "      <td>2001</td>\n",
       "      <td>[fiction, fantasy, magic, science-fiction-fant...</td>\n",
       "    </tr>\n",
       "  </tbody>\n",
       "</table>\n",
       "<p>5997 rows × 4 columns</p>\n",
       "</div>"
      ],
      "text/plain": [
       "            ISBN                                         Book Title  Year  \\\n",
       "0     0439023483            The Hunger Games (The Hunger Games, #1)  2008   \n",
       "1     0439358078  Harry Potter and the Order of the Phoenix (Har...  2003   \n",
       "2     0316015849                            Twilight (Twilight, #1)  2005   \n",
       "3     0061120081                              To Kill a Mockingbird  1960   \n",
       "4     0679783261                                Pride and Prejudice  1813   \n",
       "...          ...                                                ...   ...   \n",
       "5992  0393062260                                 The Book of Psalms  2007   \n",
       "5993  0767913736                                 The River of Doubt  2005   \n",
       "5994  1416909427                                               Shug  2006   \n",
       "5995  1620612321                                             Flawed  2012   \n",
       "5996  0786929081  Legacy of the Drow Collector's Edition (Legacy...  2001   \n",
       "\n",
       "                                                 Genres  \n",
       "0     [young-adult, science-fiction, dystopia, fanta...  \n",
       "1     [fantasy, young-adult, fiction, fantasy, magic...  \n",
       "2     [young-adult, fantasy, romance, paranormal, va...  \n",
       "3     [classics, fiction, historical-fiction, academ...  \n",
       "4     [classics, fiction, romance, historical-fictio...  \n",
       "...                                                 ...  \n",
       "5992  [poetry, religion, christian, religion, theolo...  \n",
       "5993  [history, non-fiction, biography, adventure, b...  \n",
       "5994  [young-adult, realistic-fiction, romance, cont...  \n",
       "5995  [contemporary, romance, young-adult, sociology...  \n",
       "5996  [fiction, fantasy, magic, science-fiction-fant...  \n",
       "\n",
       "[5997 rows x 4 columns]"
      ]
     },
     "execution_count": 25,
     "metadata": {},
     "output_type": "execute_result"
    }
   ],
   "source": [
    "books"
   ]
  },
  {
   "cell_type": "code",
   "execution_count": 42,
   "id": "3169dc97",
   "metadata": {},
   "outputs": [
    {
     "data": {
      "text/plain": [
       "'The Hunger Games (The Hunger Games, #1)'"
      ]
     },
     "execution_count": 42,
     "metadata": {},
     "output_type": "execute_result"
    }
   ],
   "source": [
    "books.Book_Title[0]"
   ]
  },
  {
   "cell_type": "markdown",
   "id": "3581ba21",
   "metadata": {},
   "source": [
    "- Removing special characters from dataset"
   ]
  },
  {
   "cell_type": "code",
   "execution_count": 49,
   "id": "d1fe1e3b",
   "metadata": {},
   "outputs": [],
   "source": [
    "books['Book_Title'] = books['Book_Title'].apply(lambda x: ''.join(char for char in x if char.isalnum() or char.isspace()))"
   ]
  },
  {
   "cell_type": "markdown",
   "id": "1c1cf551",
   "metadata": {},
   "source": [
    "### Converting Strings to lists"
   ]
  },
  {
   "cell_type": "code",
   "execution_count": 24,
   "id": "bf78f2b2",
   "metadata": {},
   "outputs": [],
   "source": [
    "books['Genres'] = books['Genres'].apply(lambda x:x.split())"
   ]
  },
  {
   "cell_type": "code",
   "execution_count": 53,
   "id": "9c60fdfc",
   "metadata": {},
   "outputs": [],
   "source": [
    "books['Book_Title'] = books['Book_Title'].apply(lambda x:x.split())"
   ]
  },
  {
   "cell_type": "code",
   "execution_count": 54,
   "id": "3348af10",
   "metadata": {
    "scrolled": false
   },
   "outputs": [
    {
     "data": {
      "text/html": [
       "<div>\n",
       "<style scoped>\n",
       "    .dataframe tbody tr th:only-of-type {\n",
       "        vertical-align: middle;\n",
       "    }\n",
       "\n",
       "    .dataframe tbody tr th {\n",
       "        vertical-align: top;\n",
       "    }\n",
       "\n",
       "    .dataframe thead th {\n",
       "        text-align: right;\n",
       "    }\n",
       "</style>\n",
       "<table border=\"1\" class=\"dataframe\">\n",
       "  <thead>\n",
       "    <tr style=\"text-align: right;\">\n",
       "      <th></th>\n",
       "      <th>ISBN</th>\n",
       "      <th>Book_Title</th>\n",
       "      <th>Year</th>\n",
       "      <th>Genres</th>\n",
       "    </tr>\n",
       "  </thead>\n",
       "  <tbody>\n",
       "    <tr>\n",
       "      <th>0</th>\n",
       "      <td>0439023483</td>\n",
       "      <td>[The, Hunger, Games, The, Hunger, Games, 1]</td>\n",
       "      <td>2008</td>\n",
       "      <td>[young-adult, science-fiction, dystopia, fanta...</td>\n",
       "    </tr>\n",
       "    <tr>\n",
       "      <th>1</th>\n",
       "      <td>0439358078</td>\n",
       "      <td>[Harry, Potter, and, the, Order, of, the, Phoe...</td>\n",
       "      <td>2003</td>\n",
       "      <td>[fantasy, young-adult, fiction, fantasy, magic...</td>\n",
       "    </tr>\n",
       "    <tr>\n",
       "      <th>2</th>\n",
       "      <td>0316015849</td>\n",
       "      <td>[Twilight, Twilight, 1]</td>\n",
       "      <td>2005</td>\n",
       "      <td>[young-adult, fantasy, romance, paranormal, va...</td>\n",
       "    </tr>\n",
       "    <tr>\n",
       "      <th>3</th>\n",
       "      <td>0061120081</td>\n",
       "      <td>[To, Kill, a, Mockingbird]</td>\n",
       "      <td>1960</td>\n",
       "      <td>[classics, fiction, historical-fiction, academ...</td>\n",
       "    </tr>\n",
       "    <tr>\n",
       "      <th>4</th>\n",
       "      <td>0679783261</td>\n",
       "      <td>[Pride, and, Prejudice]</td>\n",
       "      <td>1813</td>\n",
       "      <td>[classics, fiction, romance, historical-fictio...</td>\n",
       "    </tr>\n",
       "    <tr>\n",
       "      <th>...</th>\n",
       "      <td>...</td>\n",
       "      <td>...</td>\n",
       "      <td>...</td>\n",
       "      <td>...</td>\n",
       "    </tr>\n",
       "    <tr>\n",
       "      <th>5992</th>\n",
       "      <td>0393062260</td>\n",
       "      <td>[The, Book, of, Psalms]</td>\n",
       "      <td>2007</td>\n",
       "      <td>[poetry, religion, christian, religion, theolo...</td>\n",
       "    </tr>\n",
       "    <tr>\n",
       "      <th>5993</th>\n",
       "      <td>0767913736</td>\n",
       "      <td>[The, River, of, Doubt]</td>\n",
       "      <td>2005</td>\n",
       "      <td>[history, non-fiction, biography, adventure, b...</td>\n",
       "    </tr>\n",
       "    <tr>\n",
       "      <th>5994</th>\n",
       "      <td>1416909427</td>\n",
       "      <td>[Shug]</td>\n",
       "      <td>2006</td>\n",
       "      <td>[young-adult, realistic-fiction, romance, cont...</td>\n",
       "    </tr>\n",
       "    <tr>\n",
       "      <th>5995</th>\n",
       "      <td>1620612321</td>\n",
       "      <td>[Flawed]</td>\n",
       "      <td>2012</td>\n",
       "      <td>[contemporary, romance, young-adult, sociology...</td>\n",
       "    </tr>\n",
       "    <tr>\n",
       "      <th>5996</th>\n",
       "      <td>0786929081</td>\n",
       "      <td>[Legacy, of, the, Drow, Collectors, Edition, L...</td>\n",
       "      <td>2001</td>\n",
       "      <td>[fiction, fantasy, magic, science-fiction-fant...</td>\n",
       "    </tr>\n",
       "  </tbody>\n",
       "</table>\n",
       "<p>5997 rows × 4 columns</p>\n",
       "</div>"
      ],
      "text/plain": [
       "            ISBN                                         Book_Title  Year  \\\n",
       "0     0439023483        [The, Hunger, Games, The, Hunger, Games, 1]  2008   \n",
       "1     0439358078  [Harry, Potter, and, the, Order, of, the, Phoe...  2003   \n",
       "2     0316015849                            [Twilight, Twilight, 1]  2005   \n",
       "3     0061120081                         [To, Kill, a, Mockingbird]  1960   \n",
       "4     0679783261                            [Pride, and, Prejudice]  1813   \n",
       "...          ...                                                ...   ...   \n",
       "5992  0393062260                            [The, Book, of, Psalms]  2007   \n",
       "5993  0767913736                            [The, River, of, Doubt]  2005   \n",
       "5994  1416909427                                             [Shug]  2006   \n",
       "5995  1620612321                                           [Flawed]  2012   \n",
       "5996  0786929081  [Legacy, of, the, Drow, Collectors, Edition, L...  2001   \n",
       "\n",
       "                                                 Genres  \n",
       "0     [young-adult, science-fiction, dystopia, fanta...  \n",
       "1     [fantasy, young-adult, fiction, fantasy, magic...  \n",
       "2     [young-adult, fantasy, romance, paranormal, va...  \n",
       "3     [classics, fiction, historical-fiction, academ...  \n",
       "4     [classics, fiction, romance, historical-fictio...  \n",
       "...                                                 ...  \n",
       "5992  [poetry, religion, christian, religion, theolo...  \n",
       "5993  [history, non-fiction, biography, adventure, b...  \n",
       "5994  [young-adult, realistic-fiction, romance, cont...  \n",
       "5995  [contemporary, romance, young-adult, sociology...  \n",
       "5996  [fiction, fantasy, magic, science-fiction-fant...  \n",
       "\n",
       "[5997 rows x 4 columns]"
      ]
     },
     "execution_count": 54,
     "metadata": {},
     "output_type": "execute_result"
    }
   ],
   "source": [
    "books"
   ]
  },
  {
   "cell_type": "markdown",
   "id": "bf9d2733",
   "metadata": {},
   "source": [
    "### converting \"titles\" and \"genres\" into Strings"
   ]
  },
  {
   "cell_type": "code",
   "execution_count": 101,
   "id": "5e6aafbe",
   "metadata": {},
   "outputs": [],
   "source": [
    "books['Book_Title'] = books['Book_Title'].apply(lambda x: \" \".join(x))"
   ]
  },
  {
   "cell_type": "code",
   "execution_count": 105,
   "id": "51c4b656",
   "metadata": {},
   "outputs": [],
   "source": [
    "books['Genres'] = books['Genres'].apply(lambda x: \" \".join(x))"
   ]
  },
  {
   "cell_type": "markdown",
   "id": "4143b0bf",
   "metadata": {},
   "source": [
    "#### Converting all the columns to lower cases"
   ]
  },
  {
   "cell_type": "code",
   "execution_count": 108,
   "id": "b9670e1d",
   "metadata": {},
   "outputs": [],
   "source": [
    "books['Book_Title'] = books['Book_Title'].apply(lambda x: x.lower())"
   ]
  },
  {
   "cell_type": "code",
   "execution_count": 109,
   "id": "4213b51f",
   "metadata": {},
   "outputs": [],
   "source": [
    "books['Genres'] = books['Genres'].apply(lambda x: x.lower())"
   ]
  },
  {
   "cell_type": "code",
   "execution_count": 110,
   "id": "a7b71b23",
   "metadata": {},
   "outputs": [
    {
     "data": {
      "text/html": [
       "<div>\n",
       "<style scoped>\n",
       "    .dataframe tbody tr th:only-of-type {\n",
       "        vertical-align: middle;\n",
       "    }\n",
       "\n",
       "    .dataframe tbody tr th {\n",
       "        vertical-align: top;\n",
       "    }\n",
       "\n",
       "    .dataframe thead th {\n",
       "        text-align: right;\n",
       "    }\n",
       "</style>\n",
       "<table border=\"1\" class=\"dataframe\">\n",
       "  <thead>\n",
       "    <tr style=\"text-align: right;\">\n",
       "      <th></th>\n",
       "      <th>ISBN</th>\n",
       "      <th>Book_Title</th>\n",
       "      <th>Year</th>\n",
       "      <th>Genres</th>\n",
       "    </tr>\n",
       "  </thead>\n",
       "  <tbody>\n",
       "    <tr>\n",
       "      <th>0</th>\n",
       "      <td>0439023483</td>\n",
       "      <td>the hunger games the hunger games 1</td>\n",
       "      <td>2008</td>\n",
       "      <td>young-adult science-fiction dystopia fantasy s...</td>\n",
       "    </tr>\n",
       "    <tr>\n",
       "      <th>1</th>\n",
       "      <td>0439358078</td>\n",
       "      <td>harry potter and the order of the phoenix harr...</td>\n",
       "      <td>2003</td>\n",
       "      <td>fantasy young-adult fiction fantasy magic chil...</td>\n",
       "    </tr>\n",
       "    <tr>\n",
       "      <th>2</th>\n",
       "      <td>0316015849</td>\n",
       "      <td>twilight twilight 1</td>\n",
       "      <td>2005</td>\n",
       "      <td>young-adult fantasy romance paranormal vampire...</td>\n",
       "    </tr>\n",
       "    <tr>\n",
       "      <th>3</th>\n",
       "      <td>0061120081</td>\n",
       "      <td>to kill a mockingbird</td>\n",
       "      <td>1960</td>\n",
       "      <td>classics fiction historical-fiction academic s...</td>\n",
       "    </tr>\n",
       "    <tr>\n",
       "      <th>4</th>\n",
       "      <td>0679783261</td>\n",
       "      <td>pride and prejudice</td>\n",
       "      <td>1813</td>\n",
       "      <td>classics fiction romance historical-fiction li...</td>\n",
       "    </tr>\n",
       "  </tbody>\n",
       "</table>\n",
       "</div>"
      ],
      "text/plain": [
       "         ISBN                                         Book_Title  Year  \\\n",
       "0  0439023483                the hunger games the hunger games 1  2008   \n",
       "1  0439358078  harry potter and the order of the phoenix harr...  2003   \n",
       "2  0316015849                                twilight twilight 1  2005   \n",
       "3  0061120081                              to kill a mockingbird  1960   \n",
       "4  0679783261                                pride and prejudice  1813   \n",
       "\n",
       "                                              Genres  \n",
       "0  young-adult science-fiction dystopia fantasy s...  \n",
       "1  fantasy young-adult fiction fantasy magic chil...  \n",
       "2  young-adult fantasy romance paranormal vampire...  \n",
       "3  classics fiction historical-fiction academic s...  \n",
       "4  classics fiction romance historical-fiction li...  "
      ]
     },
     "execution_count": 110,
     "metadata": {},
     "output_type": "execute_result"
    }
   ],
   "source": [
    "books.head()"
   ]
  },
  {
   "cell_type": "code",
   "execution_count": 111,
   "id": "2ae84f99",
   "metadata": {},
   "outputs": [],
   "source": [
    "from sklearn.feature_extraction.text import CountVectorizer\n",
    "\n",
    "cv = CountVectorizer(max_features = 5000, stop_words = 'english')"
   ]
  },
  {
   "cell_type": "code",
   "execution_count": 116,
   "id": "6f7e9272",
   "metadata": {},
   "outputs": [],
   "source": [
    "vectors = cv.fit_transform(books['Genres']).toarray()"
   ]
  },
  {
   "cell_type": "code",
   "execution_count": 117,
   "id": "4842f0e7",
   "metadata": {},
   "outputs": [
    {
     "data": {
      "text/plain": [
       "(5997, 489)"
      ]
     },
     "execution_count": 117,
     "metadata": {},
     "output_type": "execute_result"
    }
   ],
   "source": [
    "cv.fit_transform(books['Genres']).toarray().shape"
   ]
  },
  {
   "cell_type": "code",
   "execution_count": 118,
   "id": "67ce34dd",
   "metadata": {},
   "outputs": [
    {
     "data": {
      "text/plain": [
       "array([[0, 0, 0, ..., 2, 0, 0],\n",
       "       [0, 0, 0, ..., 1, 0, 0],\n",
       "       [0, 0, 0, ..., 2, 0, 0],\n",
       "       ...,\n",
       "       [0, 0, 0, ..., 3, 0, 0],\n",
       "       [0, 0, 0, ..., 1, 0, 0],\n",
       "       [0, 0, 0, ..., 0, 0, 0]], dtype=int64)"
      ]
     },
     "execution_count": 118,
     "metadata": {},
     "output_type": "execute_result"
    }
   ],
   "source": [
    "vectors"
   ]
  },
  {
   "cell_type": "code",
   "execution_count": 123,
   "id": "d1227ed0",
   "metadata": {},
   "outputs": [
    {
     "data": {
      "text/plain": [
       "array(['14th', '15th', '16th', '17th', '18th', '19th', '20th', 'a9e',\n",
       "       'abuse', 'academia', 'academic', 'acceptance', 'action',\n",
       "       'activism', 'adolescence', 'adoption', 'adult', 'adventure',\n",
       "       'africa', 'african', 'age', 'aliens', 'alternate', 'american',\n",
       "       'americana', 'anarchism', 'ancient', 'angels', 'animal', 'animals',\n",
       "       'anime', 'anthologies', 'anthropology', 'anthropomorphic',\n",
       "       'apocalyptic', 'architecture', 'art', 'arthurian', 'asia', 'asian',\n",
       "       'astronomy', 'atheism', 'australia', 'authors', 'autobiography',\n",
       "       'bande', 'banned', 'baseball', 'basketball', 'batman', 'bdsm',\n",
       "       'beast', 'beauty', 'belgian', 'belgium', 'biography', 'biology',\n",
       "       'birds', 'bizarro', 'boarding', 'boiled', 'book', 'books', 'brain',\n",
       "       'brazil', 'british', 'buddhism', 'bulgaria', 'bulgarian',\n",
       "       'business', 'c3', 'canada', 'canadian', 'canon', 'cartoon',\n",
       "       'category', 'catholic', 'cats', 'century', 'chapter', 'chess',\n",
       "       'chick', 'childrens', 'china', 'chinese', 'christian',\n",
       "       'christianity', 'christmas', 'church', 'cities', 'civil',\n",
       "       'classic', 'classical', 'classics', 'clean', 'club', 'collection',\n",
       "       'collections', 'college', 'colonial', 'comedy', 'comic', 'comics',\n",
       "       'coming', 'comix', 'communication', 'computer', 'contemporary',\n",
       "       'cookbooks', 'cooking', 'counter', 'cozy', 'crafts', 'crafty',\n",
       "       'crime', 'criticism', 'cthulhu', 'culinary', 'cult', 'cults',\n",
       "       'cultural', 'culture', 'cyberpunk', 'cycling', 'czech', 'danish',\n",
       "       'dark', 'dc', 'death', 'demons', 'denmark', 'design', 'dessin',\n",
       "       'detective', 'development', 'diary', 'dictionaries', 'dinosaurs',\n",
       "       'disability', 'dogs', 'dragonlance', 'dragons', 'drama', 'drawing',\n",
       "       'drink', 'dungeons', 'dutch', 'dying', 'dystopia', 'earth',\n",
       "       'eastern', 'ecology', 'economics', 'education', 'egypt',\n",
       "       'egyptian', 'engineering', 'english', 'environment', 'epic',\n",
       "       'erotic', 'erotica', 'esoterica', 'espionage', 'essays',\n",
       "       'european', 'evolution', 'fables', 'fae', 'fairies', 'fairy',\n",
       "       'faith', 'family', 'fantasy', 'fat', 'favorites', 'female',\n",
       "       'feminism', 'fi', 'fiction', 'film', 'finnish', 'fitness', 'folk',\n",
       "       'folklore', 'food', 'foodie', 'football', 'forgotten', 'france',\n",
       "       'french', 'funny', 'future', 'games', 'gaming', 'gardening', 'gay',\n",
       "       'gender', 'genetics', 'geography', 'georgian', 'german', 'germany',\n",
       "       'ghost', 'ghosts', 'glbt', 'god', 'gods', 'gothic', 'government',\n",
       "       'grade', 'graphic', 'greece', 'greek', 'guides', 'hard',\n",
       "       'harlequin', 'health', 'help', 'heroic', 'high', 'hinduism',\n",
       "       'historical', 'history', 'holiday', 'holland', 'holocaust',\n",
       "       'horror', 'horse', 'horses', 'humanities', 'humor', 'hungarian',\n",
       "       'hungary', 'ii', 'illness', 'india', 'indian', 'indonesian',\n",
       "       'inspirational', 'inspired', 'international', 'interracial',\n",
       "       'iran', 'ireland', 'irish', 'islam', 'israel', 'issues', 'italian',\n",
       "       'italy', 'japan', 'japanese', 'jewish', 'josei', 'journal',\n",
       "       'journalism', 'judaism', 'justice', 'juvenile', 'kenya', 'kids',\n",
       "       'komik', 'language', 'latin', 'law', 'lds', 'leadership', 'legal',\n",
       "       'lesbian', 'life', 'light', 'lit', 'literary', 'literature',\n",
       "       'logic', 'love', 'lovecraftian', 'low', 'magic', 'magical',\n",
       "       'management', 'manga', 'maritime', 'marriage', 'marvel',\n",
       "       'mathematics', 'media', 'medical', 'medicine', 'medieval',\n",
       "       'memoir', 'men', 'menage', 'mental', 'mermaids', 'metaphysics',\n",
       "       'middle', 'military', 'modern', 'mormonism', 'mountaineering',\n",
       "       'movements', 'movies', 'murder', 'music', 'musicians', 'mystery',\n",
       "       'mysticism', 'mythology', 'mythos', 'natural', 'nature', 'near',\n",
       "       'neuroscience', 'new', 'nobel', 'noir', 'non', 'novel', 'novels',\n",
       "       'nutrition', 'occult', 'opera', 'outdoors', 'paganism', 'pakistan',\n",
       "       'paranormal', 'parenting', 'personal', 'philosophy', 'photography',\n",
       "       'physics', 'picture', 'pirates', 'planetary', 'planning',\n",
       "       'playing', 'plays', 'poetry', 'poland', 'polish', 'political',\n",
       "       'politics', 'pop', 'popular', 'portugal', 'portuguese', 'post',\n",
       "       'poverty', 'prehistoric', 'prehistory', 'presidents', 'princesses',\n",
       "       'prize', 'productivity', 'psychological', 'psychology', 'pulp',\n",
       "       'queer', 'rabbits', 'race', 'racing', 'read', 'readers', 'realism',\n",
       "       'realistic', 'realms', 'reference', 'regency', 'relationships',\n",
       "       'religion', 'retellings', 'revolution', 'road', 'robots', 'rock',\n",
       "       'role', 'roll', 'roman', 'romance', 'romania', 'romanian',\n",
       "       'romantic', 'russia', 'russian', 'satanism', 'scandinavian',\n",
       "       'school', 'sci', 'science', 'scotland', 'scripture', 'self',\n",
       "       'sequential', 'serbian', 'sexuality', 'shapeshifters', 'shojo',\n",
       "       'shonen', 'short', 'skepticism', 'slice', 'social', 'society',\n",
       "       'sociology', 'soldiers', 'sorcery', 'southern', 'space', 'spain',\n",
       "       'spanish', 'speculative', 'spirituality', 'splatterpunk', 'sports',\n",
       "       'spy', 'star', 'states', 'steampunk', 'stories', 'story',\n",
       "       'storytime', 'strips', 'studies', 'superheroes', 'superman',\n",
       "       'supernatural', 'surreal', 'survival', 'suspense',\n",
       "       'sustainability', 'swashbuckling', 'sweden', 'swedish', 'sword',\n",
       "       'tale', 'tales', 'taoism', 'tasmania', 'teachers', 'teaching',\n",
       "       'technical', 'technology', 'teen', 'terrorism', 'textbooks',\n",
       "       'theatre', 'theology', 'theory', 'thriller', 'tie', 'time',\n",
       "       'tragedy', 'trans', 'transgender', 'travel', 'travelogue', 'trip',\n",
       "       'true', 'turkish', 'ukraine', 'unicorns', 'united', 'urban',\n",
       "       'urbanism', 'utopia', 'vampires', 'vegan', 'video', 'walking',\n",
       "       'war', 'wars', 'weird', 'werewolves', 'western', 'wicca',\n",
       "       'wilderness', 'wildlife', 'witches', 'wizards', 'wolves', 'womens',\n",
       "       'world', 'writing', 'york', 'young', 'zen', 'zombies'],\n",
       "      dtype=object)"
      ]
     },
     "execution_count": 123,
     "metadata": {},
     "output_type": "execute_result"
    }
   ],
   "source": [
    "cv.get_feature_names_out()"
   ]
  },
  {
   "cell_type": "code",
   "execution_count": 120,
   "id": "2a631663",
   "metadata": {},
   "outputs": [
    {
     "data": {
      "text/plain": [
       "array([0, 0, 0, 0, 0, 0, 0, 0, 0, 0, 0, 0, 0, 0, 0, 0, 0, 0, 0, 0, 0, 0,\n",
       "       0, 0, 0, 0, 0, 0, 0, 0, 0, 0, 0, 0, 0, 0, 0, 0, 0, 0, 0, 0, 0, 0,\n",
       "       0, 0, 0, 0, 0, 0, 0, 0, 0, 0, 0, 0, 0, 0, 0, 0, 0, 1, 0, 0, 0, 0,\n",
       "       0, 0, 0, 0, 0, 0, 0, 0, 0, 0, 0, 0, 0, 0, 0, 1, 0, 0, 0, 0, 0, 0,\n",
       "       0, 0, 0, 0, 0, 0, 0, 1, 0, 0, 0, 0, 0, 0, 0, 0, 0, 0, 0, 1, 0, 0,\n",
       "       0, 0, 0, 0, 0, 0, 0, 0, 0, 0, 1, 0, 0, 0, 0, 0, 0, 0, 0, 0, 0, 0,\n",
       "       0, 0, 0, 0, 0, 0, 0, 0, 0, 0, 0, 0, 1, 0, 0, 0, 0, 0, 0, 0, 0, 0,\n",
       "       0, 0, 0, 0, 0, 0, 0, 0, 0, 0, 0, 0, 0, 0, 0, 0, 0, 0, 0, 1, 0, 0,\n",
       "       0, 0, 0, 3, 0, 0, 0, 0, 0, 2, 0, 0, 0, 1, 0, 0, 0, 0, 0, 0, 0, 0,\n",
       "       0, 0, 0, 0, 0, 0, 0, 0, 0, 0, 0, 0, 0, 0, 0, 0, 0, 0, 0, 0, 0, 0,\n",
       "       0, 0, 1, 0, 0, 0, 0, 0, 0, 0, 0, 0, 0, 0, 0, 0, 0, 0, 0, 0, 0, 0,\n",
       "       0, 0, 0, 0, 0, 0, 0, 0, 0, 0, 0, 0, 0, 0, 0, 0, 0, 0, 0, 0, 0, 0,\n",
       "       0, 0, 0, 0, 0, 0, 0, 0, 1, 0, 0, 0, 0, 0, 0, 0, 1, 0, 0, 0, 0, 0,\n",
       "       0, 0, 0, 0, 0, 0, 0, 0, 0, 0, 0, 0, 0, 0, 0, 0, 0, 0, 0, 0, 0, 0,\n",
       "       0, 0, 0, 0, 0, 0, 0, 0, 0, 0, 0, 0, 0, 0, 0, 0, 0, 0, 0, 0, 0, 0,\n",
       "       0, 0, 0, 0, 0, 0, 0, 0, 0, 0, 0, 0, 0, 0, 0, 0, 0, 0, 0, 0, 0, 0,\n",
       "       0, 0, 0, 0, 0, 0, 0, 0, 0, 0, 0, 0, 0, 1, 0, 0, 0, 0, 0, 0, 0, 0,\n",
       "       0, 0, 0, 0, 0, 0, 1, 0, 0, 0, 0, 0, 0, 0, 0, 0, 0, 0, 0, 0, 0, 0,\n",
       "       0, 0, 0, 0, 0, 0, 0, 0, 0, 0, 0, 0, 0, 0, 0, 0, 0, 0, 0, 0, 0, 0,\n",
       "       0, 0, 0, 0, 0, 0, 0, 0, 0, 0, 0, 0, 0, 0, 0, 0, 0, 0, 0, 0, 0, 0,\n",
       "       0, 0, 0, 0, 0, 0, 0, 0, 0, 0, 0, 0, 0, 0, 0, 0, 0, 0, 0, 0, 0, 0,\n",
       "       0, 0, 0, 0, 0, 0, 0, 0, 0, 0, 0, 0, 0, 0, 0, 0, 0, 0, 0, 0, 1, 0,\n",
       "       0, 0, 0, 0, 0], dtype=int64)"
      ]
     },
     "execution_count": 120,
     "metadata": {},
     "output_type": "execute_result"
    }
   ],
   "source": [
    "vectors[456]"
   ]
  },
  {
   "cell_type": "code",
   "execution_count": 121,
   "id": "3a20d36d",
   "metadata": {},
   "outputs": [],
   "source": [
    "import nltk"
   ]
  },
  {
   "cell_type": "code",
   "execution_count": 122,
   "id": "b292bfbe",
   "metadata": {},
   "outputs": [],
   "source": [
    "from nltk.stem.porter import PorterStemmer\n",
    "ps = PorterStemmer()"
   ]
  },
  {
   "cell_type": "code",
   "execution_count": 124,
   "id": "9473ecd0",
   "metadata": {},
   "outputs": [],
   "source": [
    "def stem(text):\n",
    "    y = []\n",
    "    \n",
    "    for i in text.split():\n",
    "        y.append(ps.stem(i))\n",
    "        \n",
    "    return \" \".join(y)"
   ]
  },
  {
   "cell_type": "code",
   "execution_count": 126,
   "id": "6a0bcce8",
   "metadata": {},
   "outputs": [
    {
     "data": {
      "text/plain": [
       "'young-adult science-fict dystopia fantasi science-fict romanc adventur book-club young-adult teen apocalypt post-apocalypt action'"
      ]
     },
     "execution_count": 126,
     "metadata": {},
     "output_type": "execute_result"
    }
   ],
   "source": [
    "stem('young-adult science-fiction dystopia fantasy science-fiction romance adventure book-club young-adult teen apocalyptic post-apocalyptic action')"
   ]
  },
  {
   "cell_type": "code",
   "execution_count": 127,
   "id": "c68c9010",
   "metadata": {},
   "outputs": [],
   "source": [
    "books['Genres'] = books['Genres'].apply(stem)"
   ]
  },
  {
   "cell_type": "code",
   "execution_count": 128,
   "id": "7ba8c1eb",
   "metadata": {},
   "outputs": [
    {
     "data": {
      "text/html": [
       "<div>\n",
       "<style scoped>\n",
       "    .dataframe tbody tr th:only-of-type {\n",
       "        vertical-align: middle;\n",
       "    }\n",
       "\n",
       "    .dataframe tbody tr th {\n",
       "        vertical-align: top;\n",
       "    }\n",
       "\n",
       "    .dataframe thead th {\n",
       "        text-align: right;\n",
       "    }\n",
       "</style>\n",
       "<table border=\"1\" class=\"dataframe\">\n",
       "  <thead>\n",
       "    <tr style=\"text-align: right;\">\n",
       "      <th></th>\n",
       "      <th>Year</th>\n",
       "    </tr>\n",
       "  </thead>\n",
       "  <tbody>\n",
       "    <tr>\n",
       "      <th>count</th>\n",
       "      <td>5997.000000</td>\n",
       "    </tr>\n",
       "    <tr>\n",
       "      <th>mean</th>\n",
       "      <td>1969.078873</td>\n",
       "    </tr>\n",
       "    <tr>\n",
       "      <th>std</th>\n",
       "      <td>185.320710</td>\n",
       "    </tr>\n",
       "    <tr>\n",
       "      <th>min</th>\n",
       "      <td>-1500.000000</td>\n",
       "    </tr>\n",
       "    <tr>\n",
       "      <th>25%</th>\n",
       "      <td>1980.000000</td>\n",
       "    </tr>\n",
       "    <tr>\n",
       "      <th>50%</th>\n",
       "      <td>2002.000000</td>\n",
       "    </tr>\n",
       "    <tr>\n",
       "      <th>75%</th>\n",
       "      <td>2009.000000</td>\n",
       "    </tr>\n",
       "    <tr>\n",
       "      <th>max</th>\n",
       "      <td>2014.000000</td>\n",
       "    </tr>\n",
       "  </tbody>\n",
       "</table>\n",
       "</div>"
      ],
      "text/plain": [
       "              Year\n",
       "count  5997.000000\n",
       "mean   1969.078873\n",
       "std     185.320710\n",
       "min   -1500.000000\n",
       "25%    1980.000000\n",
       "50%    2002.000000\n",
       "75%    2009.000000\n",
       "max    2014.000000"
      ]
     },
     "execution_count": 128,
     "metadata": {},
     "output_type": "execute_result"
    }
   ],
   "source": [
    "books.describe()"
   ]
  },
  {
   "cell_type": "code",
   "execution_count": 129,
   "id": "5ce52403",
   "metadata": {},
   "outputs": [],
   "source": [
    "from sklearn.metrics.pairwise import cosine_similarity"
   ]
  },
  {
   "cell_type": "code",
   "execution_count": 130,
   "id": "39453329",
   "metadata": {},
   "outputs": [],
   "source": [
    "similarity = cosine_similarity(vectors)"
   ]
  },
  {
   "cell_type": "code",
   "execution_count": 131,
   "id": "2946c926",
   "metadata": {},
   "outputs": [
    {
     "data": {
      "text/plain": [
       "(5997, 5997)"
      ]
     },
     "execution_count": 131,
     "metadata": {},
     "output_type": "execute_result"
    }
   ],
   "source": [
    "similarity.shape"
   ]
  },
  {
   "cell_type": "code",
   "execution_count": 132,
   "id": "143c4c99",
   "metadata": {},
   "outputs": [
    {
     "data": {
      "text/plain": [
       "array([1.        , 0.59642005, 0.47147708, ..., 0.57306826, 0.4466625 ,\n",
       "       0.29180696])"
      ]
     },
     "execution_count": 132,
     "metadata": {},
     "output_type": "execute_result"
    }
   ],
   "source": [
    "similarity[0]"
   ]
  },
  {
   "cell_type": "code",
   "execution_count": 133,
   "id": "d76a983a",
   "metadata": {},
   "outputs": [
    {
     "data": {
      "text/html": [
       "<div>\n",
       "<style scoped>\n",
       "    .dataframe tbody tr th:only-of-type {\n",
       "        vertical-align: middle;\n",
       "    }\n",
       "\n",
       "    .dataframe tbody tr th {\n",
       "        vertical-align: top;\n",
       "    }\n",
       "\n",
       "    .dataframe thead th {\n",
       "        text-align: right;\n",
       "    }\n",
       "</style>\n",
       "<table border=\"1\" class=\"dataframe\">\n",
       "  <thead>\n",
       "    <tr style=\"text-align: right;\">\n",
       "      <th></th>\n",
       "      <th>ISBN</th>\n",
       "      <th>Book_Title</th>\n",
       "      <th>Year</th>\n",
       "      <th>Genres</th>\n",
       "    </tr>\n",
       "  </thead>\n",
       "  <tbody>\n",
       "    <tr>\n",
       "      <th>0</th>\n",
       "      <td>0439023483</td>\n",
       "      <td>the hunger games the hunger games 1</td>\n",
       "      <td>2008</td>\n",
       "      <td>young-adult science-fict dystopia fantasi scie...</td>\n",
       "    </tr>\n",
       "    <tr>\n",
       "      <th>1</th>\n",
       "      <td>0439358078</td>\n",
       "      <td>harry potter and the order of the phoenix harr...</td>\n",
       "      <td>2003</td>\n",
       "      <td>fantasi young-adult fiction fantasi magic chil...</td>\n",
       "    </tr>\n",
       "    <tr>\n",
       "      <th>2</th>\n",
       "      <td>0316015849</td>\n",
       "      <td>twilight twilight 1</td>\n",
       "      <td>2005</td>\n",
       "      <td>young-adult fantasi romanc paranorm vampir fic...</td>\n",
       "    </tr>\n",
       "    <tr>\n",
       "      <th>3</th>\n",
       "      <td>0061120081</td>\n",
       "      <td>to kill a mockingbird</td>\n",
       "      <td>1960</td>\n",
       "      <td>classic fiction historical-fict academ school ...</td>\n",
       "    </tr>\n",
       "    <tr>\n",
       "      <th>4</th>\n",
       "      <td>0679783261</td>\n",
       "      <td>pride and prejudice</td>\n",
       "      <td>1813</td>\n",
       "      <td>classic fiction romanc historical-fict literat...</td>\n",
       "    </tr>\n",
       "    <tr>\n",
       "      <th>...</th>\n",
       "      <td>...</td>\n",
       "      <td>...</td>\n",
       "      <td>...</td>\n",
       "      <td>...</td>\n",
       "    </tr>\n",
       "    <tr>\n",
       "      <th>5992</th>\n",
       "      <td>0393062260</td>\n",
       "      <td>the book of psalms</td>\n",
       "      <td>2007</td>\n",
       "      <td>poetri religion christian religion theolog ref...</td>\n",
       "    </tr>\n",
       "    <tr>\n",
       "      <th>5993</th>\n",
       "      <td>0767913736</td>\n",
       "      <td>the river of doubt</td>\n",
       "      <td>2005</td>\n",
       "      <td>histori non-fict biographi adventur book-club ...</td>\n",
       "    </tr>\n",
       "    <tr>\n",
       "      <th>5994</th>\n",
       "      <td>1416909427</td>\n",
       "      <td>shug</td>\n",
       "      <td>2006</td>\n",
       "      <td>young-adult realistic-fict romanc contemporari...</td>\n",
       "    </tr>\n",
       "    <tr>\n",
       "      <th>5995</th>\n",
       "      <td>1620612321</td>\n",
       "      <td>flawed</td>\n",
       "      <td>2012</td>\n",
       "      <td>contemporari romanc young-adult sociolog abus ...</td>\n",
       "    </tr>\n",
       "    <tr>\n",
       "      <th>5996</th>\n",
       "      <td>0786929081</td>\n",
       "      <td>legacy of the drow collectors edition legacy o...</td>\n",
       "      <td>2001</td>\n",
       "      <td>fiction fantasi magic science-fiction-fantasi ...</td>\n",
       "    </tr>\n",
       "  </tbody>\n",
       "</table>\n",
       "<p>5997 rows × 4 columns</p>\n",
       "</div>"
      ],
      "text/plain": [
       "            ISBN                                         Book_Title  Year  \\\n",
       "0     0439023483                the hunger games the hunger games 1  2008   \n",
       "1     0439358078  harry potter and the order of the phoenix harr...  2003   \n",
       "2     0316015849                                twilight twilight 1  2005   \n",
       "3     0061120081                              to kill a mockingbird  1960   \n",
       "4     0679783261                                pride and prejudice  1813   \n",
       "...          ...                                                ...   ...   \n",
       "5992  0393062260                                 the book of psalms  2007   \n",
       "5993  0767913736                                 the river of doubt  2005   \n",
       "5994  1416909427                                               shug  2006   \n",
       "5995  1620612321                                             flawed  2012   \n",
       "5996  0786929081  legacy of the drow collectors edition legacy o...  2001   \n",
       "\n",
       "                                                 Genres  \n",
       "0     young-adult science-fict dystopia fantasi scie...  \n",
       "1     fantasi young-adult fiction fantasi magic chil...  \n",
       "2     young-adult fantasi romanc paranorm vampir fic...  \n",
       "3     classic fiction historical-fict academ school ...  \n",
       "4     classic fiction romanc historical-fict literat...  \n",
       "...                                                 ...  \n",
       "5992  poetri religion christian religion theolog ref...  \n",
       "5993  histori non-fict biographi adventur book-club ...  \n",
       "5994  young-adult realistic-fict romanc contemporari...  \n",
       "5995  contemporari romanc young-adult sociolog abus ...  \n",
       "5996  fiction fantasi magic science-fiction-fantasi ...  \n",
       "\n",
       "[5997 rows x 4 columns]"
      ]
     },
     "execution_count": 133,
     "metadata": {},
     "output_type": "execute_result"
    }
   ],
   "source": [
    "books"
   ]
  },
  {
   "cell_type": "code",
   "execution_count": 150,
   "id": "5e8b7fb5",
   "metadata": {},
   "outputs": [],
   "source": [
    "def recommend(book_name):\n",
    "    book_index = books[books['Book_Title'] == book_name].index[0]\n",
    "    distances = similarity[book_index]\n",
    "    books_list = sorted(list(enumerate(distances)),reverse = True, key = lambda x: x[1])[1:10]\n",
    "    \n",
    "    for i in books_list:\n",
    "        print(books.iloc[i[0]].Book_Title)"
   ]
  },
  {
   "cell_type": "code",
   "execution_count": null,
   "id": "49903fec",
   "metadata": {},
   "outputs": [],
   "source": [
    "def fetch_poster(book_id):\n",
    "    response = requests.get('https://covers.openlibrary.org/b/isbn/{}-M.jpg'.format(book_id))\n",
    "    print(response)\n",
    "    return response\n",
    "\n",
    "def recommend(book):\n",
    "    book_index = books[books['Book_Title'] == book].index[0]\n",
    "    distances = similarity[book_index]\n",
    "    books_list = sorted(list(enumerate(distances)), reverse=True, key=lambda x: x[1])[1:10]\n",
    "\n",
    "    recommended_books = []\n",
    "    recommended_books_posters = []\n",
    "\n",
    "    for i in books_list:\n",
    "        books_id = i[0]\n",
    "        recommended_books.append(books.iloc[i[0]].Book_Title)\n",
    "        # fetch poster from API\n",
    "        recommended_books_posters.append(fetch_poster(books.iloc[i[0]].ISBN))\n",
    "    return recommended_books, recommended_books_posters\n"
   ]
  },
  {
   "cell_type": "code",
   "execution_count": 155,
   "id": "bfb02468",
   "metadata": {},
   "outputs": [],
   "source": [
    "import requests"
   ]
  },
  {
   "cell_type": "code",
   "execution_count": null,
   "id": "fd37c546",
   "metadata": {},
   "outputs": [],
   "source": [
    "f\"https://example.com/{number}/poster.jpg\""
   ]
  },
  {
   "cell_type": "code",
   "execution_count": 163,
   "id": "deab6e98",
   "metadata": {},
   "outputs": [],
   "source": [
    "def fetch_poster(book_id):\n",
    "    response = requests.get(f\"'https://covers.openlibrary.org/b/isbn/{book_id}-M.jpg\")\n",
    "    print(response)\n",
    "    return response"
   ]
  },
  {
   "cell_type": "code",
   "execution_count": 166,
   "id": "163fa2a4",
   "metadata": {},
   "outputs": [
    {
     "ename": "InvalidSchema",
     "evalue": "No connection adapters were found for \"'https://covers.openlibrary.org/b/isbn/1416909427-M.jpg\"",
     "output_type": "error",
     "traceback": [
      "\u001b[1;31m---------------------------------------------------------------------------\u001b[0m",
      "\u001b[1;31mInvalidSchema\u001b[0m                             Traceback (most recent call last)",
      "Cell \u001b[1;32mIn[166], line 1\u001b[0m\n\u001b[1;32m----> 1\u001b[0m \u001b[43mfetch_poster\u001b[49m\u001b[43m(\u001b[49m\u001b[38;5;241;43m1416909427\u001b[39;49m\u001b[43m)\u001b[49m\n",
      "Cell \u001b[1;32mIn[163], line 2\u001b[0m, in \u001b[0;36mfetch_poster\u001b[1;34m(book_id)\u001b[0m\n\u001b[0;32m      1\u001b[0m \u001b[38;5;28;01mdef\u001b[39;00m \u001b[38;5;21mfetch_poster\u001b[39m(book_id):\n\u001b[1;32m----> 2\u001b[0m     response \u001b[38;5;241m=\u001b[39m \u001b[43mrequests\u001b[49m\u001b[38;5;241;43m.\u001b[39;49m\u001b[43mget\u001b[49m\u001b[43m(\u001b[49m\u001b[38;5;124;43mf\u001b[39;49m\u001b[38;5;124;43m\"\u001b[39;49m\u001b[38;5;124;43m'\u001b[39;49m\u001b[38;5;124;43mhttps://covers.openlibrary.org/b/isbn/\u001b[39;49m\u001b[38;5;132;43;01m{\u001b[39;49;00m\u001b[43mbook_id\u001b[49m\u001b[38;5;132;43;01m}\u001b[39;49;00m\u001b[38;5;124;43m-M.jpg\u001b[39;49m\u001b[38;5;124;43m\"\u001b[39;49m\u001b[43m)\u001b[49m\n\u001b[0;32m      3\u001b[0m     \u001b[38;5;28mprint\u001b[39m(response)\n\u001b[0;32m      4\u001b[0m     \u001b[38;5;28;01mreturn\u001b[39;00m response\n",
      "File \u001b[1;32m~\\AppData\\Roaming\\Python\\Python39\\site-packages\\requests\\api.py:73\u001b[0m, in \u001b[0;36mget\u001b[1;34m(url, params, **kwargs)\u001b[0m\n\u001b[0;32m     62\u001b[0m \u001b[38;5;28;01mdef\u001b[39;00m \u001b[38;5;21mget\u001b[39m(url, params\u001b[38;5;241m=\u001b[39m\u001b[38;5;28;01mNone\u001b[39;00m, \u001b[38;5;241m*\u001b[39m\u001b[38;5;241m*\u001b[39mkwargs):\n\u001b[0;32m     63\u001b[0m \u001b[38;5;250m    \u001b[39m\u001b[38;5;124mr\u001b[39m\u001b[38;5;124;03m\"\"\"Sends a GET request.\u001b[39;00m\n\u001b[0;32m     64\u001b[0m \n\u001b[0;32m     65\u001b[0m \u001b[38;5;124;03m    :param url: URL for the new :class:`Request` object.\u001b[39;00m\n\u001b[1;32m   (...)\u001b[0m\n\u001b[0;32m     70\u001b[0m \u001b[38;5;124;03m    :rtype: requests.Response\u001b[39;00m\n\u001b[0;32m     71\u001b[0m \u001b[38;5;124;03m    \"\"\"\u001b[39;00m\n\u001b[1;32m---> 73\u001b[0m     \u001b[38;5;28;01mreturn\u001b[39;00m request(\u001b[38;5;124m\"\u001b[39m\u001b[38;5;124mget\u001b[39m\u001b[38;5;124m\"\u001b[39m, url, params\u001b[38;5;241m=\u001b[39mparams, \u001b[38;5;241m*\u001b[39m\u001b[38;5;241m*\u001b[39mkwargs)\n",
      "File \u001b[1;32m~\\AppData\\Roaming\\Python\\Python39\\site-packages\\requests\\api.py:59\u001b[0m, in \u001b[0;36mrequest\u001b[1;34m(method, url, **kwargs)\u001b[0m\n\u001b[0;32m     55\u001b[0m \u001b[38;5;66;03m# By using the 'with' statement we are sure the session is closed, thus we\u001b[39;00m\n\u001b[0;32m     56\u001b[0m \u001b[38;5;66;03m# avoid leaving sockets open which can trigger a ResourceWarning in some\u001b[39;00m\n\u001b[0;32m     57\u001b[0m \u001b[38;5;66;03m# cases, and look like a memory leak in others.\u001b[39;00m\n\u001b[0;32m     58\u001b[0m \u001b[38;5;28;01mwith\u001b[39;00m sessions\u001b[38;5;241m.\u001b[39mSession() \u001b[38;5;28;01mas\u001b[39;00m session:\n\u001b[1;32m---> 59\u001b[0m     \u001b[38;5;28;01mreturn\u001b[39;00m session\u001b[38;5;241m.\u001b[39mrequest(method\u001b[38;5;241m=\u001b[39mmethod, url\u001b[38;5;241m=\u001b[39murl, \u001b[38;5;241m*\u001b[39m\u001b[38;5;241m*\u001b[39mkwargs)\n",
      "File \u001b[1;32m~\\AppData\\Roaming\\Python\\Python39\\site-packages\\requests\\sessions.py:589\u001b[0m, in \u001b[0;36mSession.request\u001b[1;34m(self, method, url, params, data, headers, cookies, files, auth, timeout, allow_redirects, proxies, hooks, stream, verify, cert, json)\u001b[0m\n\u001b[0;32m    584\u001b[0m send_kwargs \u001b[38;5;241m=\u001b[39m {\n\u001b[0;32m    585\u001b[0m     \u001b[38;5;124m\"\u001b[39m\u001b[38;5;124mtimeout\u001b[39m\u001b[38;5;124m\"\u001b[39m: timeout,\n\u001b[0;32m    586\u001b[0m     \u001b[38;5;124m\"\u001b[39m\u001b[38;5;124mallow_redirects\u001b[39m\u001b[38;5;124m\"\u001b[39m: allow_redirects,\n\u001b[0;32m    587\u001b[0m }\n\u001b[0;32m    588\u001b[0m send_kwargs\u001b[38;5;241m.\u001b[39mupdate(settings)\n\u001b[1;32m--> 589\u001b[0m resp \u001b[38;5;241m=\u001b[39m \u001b[38;5;28mself\u001b[39m\u001b[38;5;241m.\u001b[39msend(prep, \u001b[38;5;241m*\u001b[39m\u001b[38;5;241m*\u001b[39msend_kwargs)\n\u001b[0;32m    591\u001b[0m \u001b[38;5;28;01mreturn\u001b[39;00m resp\n",
      "File \u001b[1;32m~\\AppData\\Roaming\\Python\\Python39\\site-packages\\requests\\sessions.py:697\u001b[0m, in \u001b[0;36mSession.send\u001b[1;34m(self, request, **kwargs)\u001b[0m\n\u001b[0;32m    694\u001b[0m hooks \u001b[38;5;241m=\u001b[39m request\u001b[38;5;241m.\u001b[39mhooks\n\u001b[0;32m    696\u001b[0m \u001b[38;5;66;03m# Get the appropriate adapter to use\u001b[39;00m\n\u001b[1;32m--> 697\u001b[0m adapter \u001b[38;5;241m=\u001b[39m \u001b[38;5;28;43mself\u001b[39;49m\u001b[38;5;241;43m.\u001b[39;49m\u001b[43mget_adapter\u001b[49m\u001b[43m(\u001b[49m\u001b[43murl\u001b[49m\u001b[38;5;241;43m=\u001b[39;49m\u001b[43mrequest\u001b[49m\u001b[38;5;241;43m.\u001b[39;49m\u001b[43murl\u001b[49m\u001b[43m)\u001b[49m\n\u001b[0;32m    699\u001b[0m \u001b[38;5;66;03m# Start time (approximately) of the request\u001b[39;00m\n\u001b[0;32m    700\u001b[0m start \u001b[38;5;241m=\u001b[39m preferred_clock()\n",
      "File \u001b[1;32m~\\AppData\\Roaming\\Python\\Python39\\site-packages\\requests\\sessions.py:794\u001b[0m, in \u001b[0;36mSession.get_adapter\u001b[1;34m(self, url)\u001b[0m\n\u001b[0;32m    791\u001b[0m         \u001b[38;5;28;01mreturn\u001b[39;00m adapter\n\u001b[0;32m    793\u001b[0m \u001b[38;5;66;03m# Nothing matches :-/\u001b[39;00m\n\u001b[1;32m--> 794\u001b[0m \u001b[38;5;28;01mraise\u001b[39;00m InvalidSchema(\u001b[38;5;124mf\u001b[39m\u001b[38;5;124m\"\u001b[39m\u001b[38;5;124mNo connection adapters were found for \u001b[39m\u001b[38;5;132;01m{\u001b[39;00murl\u001b[38;5;132;01m!r}\u001b[39;00m\u001b[38;5;124m\"\u001b[39m)\n",
      "\u001b[1;31mInvalidSchema\u001b[0m: No connection adapters were found for \"'https://covers.openlibrary.org/b/isbn/1416909427-M.jpg\""
     ]
    }
   ],
   "source": [
    "fetch_poster(1416909427)"
   ]
  },
  {
   "cell_type": "code",
   "execution_count": 151,
   "id": "1a7fed77",
   "metadata": {},
   "outputs": [
    {
     "name": "stdout",
     "output_type": "stream",
     "text": [
      "evelina\n",
      "oliver twist\n",
      "the mayor of casterbridge\n",
      "jane eyre\n",
      "far from the madding crowd\n",
      "the complete novels\n",
      "great expectations\n",
      "a tale of two cities\n",
      "the forsyte saga the forsyte chronicles 13\n"
     ]
    }
   ],
   "source": [
    "recommend('pride and prejudice')"
   ]
  },
  {
   "cell_type": "code",
   "execution_count": 136,
   "id": "96d7cc17",
   "metadata": {},
   "outputs": [],
   "source": [
    "import pickle"
   ]
  },
  {
   "cell_type": "code",
   "execution_count": 137,
   "id": "6e50eab8",
   "metadata": {},
   "outputs": [],
   "source": [
    "pickle.dump(books, open('books.pkl', 'wb'))"
   ]
  },
  {
   "cell_type": "code",
   "execution_count": 138,
   "id": "e7a82beb",
   "metadata": {},
   "outputs": [
    {
     "data": {
      "text/plain": [
       "array(['the hunger games the hunger games 1',\n",
       "       'harry potter and the order of the phoenix harry potter 5',\n",
       "       'twilight twilight 1', ..., 'shug', 'flawed',\n",
       "       'legacy of the drow collectors edition legacy of the drow 14 legend of drizzt 710'],\n",
       "      dtype=object)"
      ]
     },
     "execution_count": 138,
     "metadata": {},
     "output_type": "execute_result"
    }
   ],
   "source": [
    "books['Book_Title'].values"
   ]
  },
  {
   "cell_type": "code",
   "execution_count": 140,
   "id": "29886088",
   "metadata": {},
   "outputs": [],
   "source": [
    "pickle.dump(books.to_dict(), open('books_dict.pkl', 'wb'))"
   ]
  },
  {
   "cell_type": "code",
   "execution_count": 142,
   "id": "db9fe72f",
   "metadata": {},
   "outputs": [],
   "source": [
    "pickle.dump(similarity, open('books_similarity.pkl', 'wb'))"
   ]
  },
  {
   "cell_type": "code",
   "execution_count": 167,
   "id": "a30dea1c",
   "metadata": {},
   "outputs": [
    {
     "data": {
      "text/html": [
       "<div>\n",
       "<style scoped>\n",
       "    .dataframe tbody tr th:only-of-type {\n",
       "        vertical-align: middle;\n",
       "    }\n",
       "\n",
       "    .dataframe tbody tr th {\n",
       "        vertical-align: top;\n",
       "    }\n",
       "\n",
       "    .dataframe thead th {\n",
       "        text-align: right;\n",
       "    }\n",
       "</style>\n",
       "<table border=\"1\" class=\"dataframe\">\n",
       "  <thead>\n",
       "    <tr style=\"text-align: right;\">\n",
       "      <th></th>\n",
       "      <th>ISBN</th>\n",
       "      <th>Book_Title</th>\n",
       "      <th>Year</th>\n",
       "      <th>Genres</th>\n",
       "    </tr>\n",
       "  </thead>\n",
       "  <tbody>\n",
       "    <tr>\n",
       "      <th>0</th>\n",
       "      <td>0439023483</td>\n",
       "      <td>the hunger games the hunger games 1</td>\n",
       "      <td>2008</td>\n",
       "      <td>young-adult science-fict dystopia fantasi scie...</td>\n",
       "    </tr>\n",
       "    <tr>\n",
       "      <th>1</th>\n",
       "      <td>0439358078</td>\n",
       "      <td>harry potter and the order of the phoenix harr...</td>\n",
       "      <td>2003</td>\n",
       "      <td>fantasi young-adult fiction fantasi magic chil...</td>\n",
       "    </tr>\n",
       "    <tr>\n",
       "      <th>2</th>\n",
       "      <td>0316015849</td>\n",
       "      <td>twilight twilight 1</td>\n",
       "      <td>2005</td>\n",
       "      <td>young-adult fantasi romanc paranorm vampir fic...</td>\n",
       "    </tr>\n",
       "    <tr>\n",
       "      <th>3</th>\n",
       "      <td>0061120081</td>\n",
       "      <td>to kill a mockingbird</td>\n",
       "      <td>1960</td>\n",
       "      <td>classic fiction historical-fict academ school ...</td>\n",
       "    </tr>\n",
       "    <tr>\n",
       "      <th>4</th>\n",
       "      <td>0679783261</td>\n",
       "      <td>pride and prejudice</td>\n",
       "      <td>1813</td>\n",
       "      <td>classic fiction romanc historical-fict literat...</td>\n",
       "    </tr>\n",
       "    <tr>\n",
       "      <th>...</th>\n",
       "      <td>...</td>\n",
       "      <td>...</td>\n",
       "      <td>...</td>\n",
       "      <td>...</td>\n",
       "    </tr>\n",
       "    <tr>\n",
       "      <th>5992</th>\n",
       "      <td>0393062260</td>\n",
       "      <td>the book of psalms</td>\n",
       "      <td>2007</td>\n",
       "      <td>poetri religion christian religion theolog ref...</td>\n",
       "    </tr>\n",
       "    <tr>\n",
       "      <th>5993</th>\n",
       "      <td>0767913736</td>\n",
       "      <td>the river of doubt</td>\n",
       "      <td>2005</td>\n",
       "      <td>histori non-fict biographi adventur book-club ...</td>\n",
       "    </tr>\n",
       "    <tr>\n",
       "      <th>5994</th>\n",
       "      <td>1416909427</td>\n",
       "      <td>shug</td>\n",
       "      <td>2006</td>\n",
       "      <td>young-adult realistic-fict romanc contemporari...</td>\n",
       "    </tr>\n",
       "    <tr>\n",
       "      <th>5995</th>\n",
       "      <td>1620612321</td>\n",
       "      <td>flawed</td>\n",
       "      <td>2012</td>\n",
       "      <td>contemporari romanc young-adult sociolog abus ...</td>\n",
       "    </tr>\n",
       "    <tr>\n",
       "      <th>5996</th>\n",
       "      <td>0786929081</td>\n",
       "      <td>legacy of the drow collectors edition legacy o...</td>\n",
       "      <td>2001</td>\n",
       "      <td>fiction fantasi magic science-fiction-fantasi ...</td>\n",
       "    </tr>\n",
       "  </tbody>\n",
       "</table>\n",
       "<p>5997 rows × 4 columns</p>\n",
       "</div>"
      ],
      "text/plain": [
       "            ISBN                                         Book_Title  Year  \\\n",
       "0     0439023483                the hunger games the hunger games 1  2008   \n",
       "1     0439358078  harry potter and the order of the phoenix harr...  2003   \n",
       "2     0316015849                                twilight twilight 1  2005   \n",
       "3     0061120081                              to kill a mockingbird  1960   \n",
       "4     0679783261                                pride and prejudice  1813   \n",
       "...          ...                                                ...   ...   \n",
       "5992  0393062260                                 the book of psalms  2007   \n",
       "5993  0767913736                                 the river of doubt  2005   \n",
       "5994  1416909427                                               shug  2006   \n",
       "5995  1620612321                                             flawed  2012   \n",
       "5996  0786929081  legacy of the drow collectors edition legacy o...  2001   \n",
       "\n",
       "                                                 Genres  \n",
       "0     young-adult science-fict dystopia fantasi scie...  \n",
       "1     fantasi young-adult fiction fantasi magic chil...  \n",
       "2     young-adult fantasi romanc paranorm vampir fic...  \n",
       "3     classic fiction historical-fict academ school ...  \n",
       "4     classic fiction romanc historical-fict literat...  \n",
       "...                                                 ...  \n",
       "5992  poetri religion christian religion theolog ref...  \n",
       "5993  histori non-fict biographi adventur book-club ...  \n",
       "5994  young-adult realistic-fict romanc contemporari...  \n",
       "5995  contemporari romanc young-adult sociolog abus ...  \n",
       "5996  fiction fantasi magic science-fiction-fantasi ...  \n",
       "\n",
       "[5997 rows x 4 columns]"
      ]
     },
     "execution_count": 167,
     "metadata": {},
     "output_type": "execute_result"
    }
   ],
   "source": [
    "books"
   ]
  },
  {
   "cell_type": "code",
   "execution_count": 168,
   "id": "0b9a1424",
   "metadata": {},
   "outputs": [],
   "source": [
    "books.to_csv('books_data', index = False)"
   ]
  }
 ],
 "metadata": {
  "kernelspec": {
   "display_name": "Python 3 (ipykernel)",
   "language": "python",
   "name": "python3"
  },
  "language_info": {
   "codemirror_mode": {
    "name": "ipython",
    "version": 3
   },
   "file_extension": ".py",
   "mimetype": "text/x-python",
   "name": "python",
   "nbconvert_exporter": "python",
   "pygments_lexer": "ipython3",
   "version": "3.9.19"
  }
 },
 "nbformat": 4,
 "nbformat_minor": 5
}
